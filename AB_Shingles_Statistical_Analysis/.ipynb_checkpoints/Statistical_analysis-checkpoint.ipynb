{
 "cells": [
  {
   "cell_type": "code",
   "execution_count": 1,
   "id": "3b2a454f-0216-4efc-9199-437dcafe2c1f",
   "metadata": {},
   "outputs": [],
   "source": [
    "import warnings\n",
    "warnings.filterwarnings(\"ignore\")\n",
    "import pandas as pd\n",
    "import numpy as np\n",
    "import matplotlib.pyplot as plt\n",
    "import seaborn as sns\n",
    "import os\n",
    "import math\n",
    "import scipy.stats as stats\n",
    "from scipy.stats import ttest_1samp,ttest_ind\n",
    "import statsmodels.stats.api as am\n",
    "sns.set_palette(\"deep\")\n",
    "os.chdir(\"/Users/lakshanabhat/Documents/Lucky_Imp_documents/Great Lakes Data Science/projects/SMDM Project\")"
   ]
  },
  {
   "cell_type": "code",
   "execution_count": 2,
   "id": "7bbfe735-5175-4c8c-a045-eec60607455b",
   "metadata": {},
   "outputs": [
    {
     "name": "stdout",
     "output_type": "stream",
     "text": [
      "<class 'pandas.core.frame.DataFrame'>\n",
      "RangeIndex: 36 entries, 0 to 35\n",
      "Data columns (total 2 columns):\n",
      " #   Column  Non-Null Count  Dtype  \n",
      "---  ------  --------------  -----  \n",
      " 0   A       36 non-null     float64\n",
      " 1   B       31 non-null     float64\n",
      "dtypes: float64(2)\n",
      "memory usage: 708.0 bytes\n"
     ]
    },
    {
     "data": {
      "text/html": [
       "<div>\n",
       "<style scoped>\n",
       "    .dataframe tbody tr th:only-of-type {\n",
       "        vertical-align: middle;\n",
       "    }\n",
       "\n",
       "    .dataframe tbody tr th {\n",
       "        vertical-align: top;\n",
       "    }\n",
       "\n",
       "    .dataframe thead th {\n",
       "        text-align: right;\n",
       "    }\n",
       "</style>\n",
       "<table border=\"1\" class=\"dataframe\">\n",
       "  <thead>\n",
       "    <tr style=\"text-align: right;\">\n",
       "      <th></th>\n",
       "      <th>A</th>\n",
       "      <th>B</th>\n",
       "    </tr>\n",
       "  </thead>\n",
       "  <tbody>\n",
       "    <tr>\n",
       "      <th>0</th>\n",
       "      <td>0.44</td>\n",
       "      <td>0.14</td>\n",
       "    </tr>\n",
       "    <tr>\n",
       "      <th>1</th>\n",
       "      <td>0.61</td>\n",
       "      <td>0.15</td>\n",
       "    </tr>\n",
       "    <tr>\n",
       "      <th>2</th>\n",
       "      <td>0.47</td>\n",
       "      <td>0.31</td>\n",
       "    </tr>\n",
       "    <tr>\n",
       "      <th>3</th>\n",
       "      <td>0.30</td>\n",
       "      <td>0.16</td>\n",
       "    </tr>\n",
       "    <tr>\n",
       "      <th>4</th>\n",
       "      <td>0.15</td>\n",
       "      <td>0.37</td>\n",
       "    </tr>\n",
       "  </tbody>\n",
       "</table>\n",
       "</div>"
      ],
      "text/plain": [
       "      A     B\n",
       "0  0.44  0.14\n",
       "1  0.61  0.15\n",
       "2  0.47  0.31\n",
       "3  0.30  0.16\n",
       "4  0.15  0.37"
      ]
     },
     "execution_count": 2,
     "metadata": {},
     "output_type": "execute_result"
    }
   ],
   "source": [
    "df2 = pd.read_csv(\"A&B_Shingles.csv\")\n",
    "df2.info()\n",
    "df2.head()"
   ]
  },
  {
   "cell_type": "markdown",
   "id": "eb4e87c3-de38-4f30-b299-261f90fbc823",
   "metadata": {},
   "source": [
    "### *An important quality characteristic used by the manufacturers of ABC asphalt shingles is the amount of moisture the shingles contain when they are packaged. Customers may feel that they have purchased a product lacking in quality if they find moisture and wet shingles inside the packaging.   In some cases, excessive moisture can cause the granules attached to the shingles for texture and coloring purposes to fall off the shingles resulting in appearance problems. To monitor the amount of moisture present, the company conducts moisture tests. A shingle is weighed and then dried. The shingle is then reweighed, and based on the amount of moisture taken out of the product, the pounds of moisture per 100 square feet are calculated. The company would like to show that the mean moisture content is less than 0.35 pounds per 100 square feet.*\n",
    "\n",
    "### *The file (A & B shingles.csv) includes 36 measurements (in pounds per 100 square feet) for A shingles and 31 for B shingles.*"
   ]
  },
  {
   "cell_type": "code",
   "execution_count": 3,
   "id": "afe41080-b26e-4a8a-b5b0-843471f08a28",
   "metadata": {},
   "outputs": [
    {
     "data": {
      "text/html": [
       "<div>\n",
       "<style scoped>\n",
       "    .dataframe tbody tr th:only-of-type {\n",
       "        vertical-align: middle;\n",
       "    }\n",
       "\n",
       "    .dataframe tbody tr th {\n",
       "        vertical-align: top;\n",
       "    }\n",
       "\n",
       "    .dataframe thead th {\n",
       "        text-align: right;\n",
       "    }\n",
       "</style>\n",
       "<table border=\"1\" class=\"dataframe\">\n",
       "  <thead>\n",
       "    <tr style=\"text-align: right;\">\n",
       "      <th></th>\n",
       "      <th>A</th>\n",
       "      <th>B</th>\n",
       "    </tr>\n",
       "  </thead>\n",
       "  <tbody>\n",
       "    <tr>\n",
       "      <th>0</th>\n",
       "      <td>0.44</td>\n",
       "      <td>0.14</td>\n",
       "    </tr>\n",
       "    <tr>\n",
       "      <th>1</th>\n",
       "      <td>0.61</td>\n",
       "      <td>0.15</td>\n",
       "    </tr>\n",
       "    <tr>\n",
       "      <th>2</th>\n",
       "      <td>0.47</td>\n",
       "      <td>0.31</td>\n",
       "    </tr>\n",
       "    <tr>\n",
       "      <th>3</th>\n",
       "      <td>0.30</td>\n",
       "      <td>0.16</td>\n",
       "    </tr>\n",
       "    <tr>\n",
       "      <th>4</th>\n",
       "      <td>0.15</td>\n",
       "      <td>0.37</td>\n",
       "    </tr>\n",
       "    <tr>\n",
       "      <th>5</th>\n",
       "      <td>0.24</td>\n",
       "      <td>0.18</td>\n",
       "    </tr>\n",
       "    <tr>\n",
       "      <th>6</th>\n",
       "      <td>0.16</td>\n",
       "      <td>0.42</td>\n",
       "    </tr>\n",
       "    <tr>\n",
       "      <th>7</th>\n",
       "      <td>0.20</td>\n",
       "      <td>0.58</td>\n",
       "    </tr>\n",
       "    <tr>\n",
       "      <th>8</th>\n",
       "      <td>0.20</td>\n",
       "      <td>0.25</td>\n",
       "    </tr>\n",
       "    <tr>\n",
       "      <th>9</th>\n",
       "      <td>0.20</td>\n",
       "      <td>0.41</td>\n",
       "    </tr>\n",
       "    <tr>\n",
       "      <th>10</th>\n",
       "      <td>0.26</td>\n",
       "      <td>0.17</td>\n",
       "    </tr>\n",
       "    <tr>\n",
       "      <th>11</th>\n",
       "      <td>0.14</td>\n",
       "      <td>0.13</td>\n",
       "    </tr>\n",
       "    <tr>\n",
       "      <th>12</th>\n",
       "      <td>0.33</td>\n",
       "      <td>0.23</td>\n",
       "    </tr>\n",
       "    <tr>\n",
       "      <th>13</th>\n",
       "      <td>0.13</td>\n",
       "      <td>0.11</td>\n",
       "    </tr>\n",
       "    <tr>\n",
       "      <th>14</th>\n",
       "      <td>0.72</td>\n",
       "      <td>0.10</td>\n",
       "    </tr>\n",
       "    <tr>\n",
       "      <th>15</th>\n",
       "      <td>0.51</td>\n",
       "      <td>0.19</td>\n",
       "    </tr>\n",
       "    <tr>\n",
       "      <th>16</th>\n",
       "      <td>0.28</td>\n",
       "      <td>0.22</td>\n",
       "    </tr>\n",
       "    <tr>\n",
       "      <th>17</th>\n",
       "      <td>0.39</td>\n",
       "      <td>0.44</td>\n",
       "    </tr>\n",
       "    <tr>\n",
       "      <th>18</th>\n",
       "      <td>0.39</td>\n",
       "      <td>0.11</td>\n",
       "    </tr>\n",
       "    <tr>\n",
       "      <th>19</th>\n",
       "      <td>0.25</td>\n",
       "      <td>0.11</td>\n",
       "    </tr>\n",
       "    <tr>\n",
       "      <th>20</th>\n",
       "      <td>0.16</td>\n",
       "      <td>0.31</td>\n",
       "    </tr>\n",
       "    <tr>\n",
       "      <th>21</th>\n",
       "      <td>0.20</td>\n",
       "      <td>0.43</td>\n",
       "    </tr>\n",
       "    <tr>\n",
       "      <th>22</th>\n",
       "      <td>0.22</td>\n",
       "      <td>0.26</td>\n",
       "    </tr>\n",
       "    <tr>\n",
       "      <th>23</th>\n",
       "      <td>0.42</td>\n",
       "      <td>0.18</td>\n",
       "    </tr>\n",
       "    <tr>\n",
       "      <th>24</th>\n",
       "      <td>0.24</td>\n",
       "      <td>0.44</td>\n",
       "    </tr>\n",
       "    <tr>\n",
       "      <th>25</th>\n",
       "      <td>0.21</td>\n",
       "      <td>0.43</td>\n",
       "    </tr>\n",
       "    <tr>\n",
       "      <th>26</th>\n",
       "      <td>0.49</td>\n",
       "      <td>0.16</td>\n",
       "    </tr>\n",
       "    <tr>\n",
       "      <th>27</th>\n",
       "      <td>0.34</td>\n",
       "      <td>0.52</td>\n",
       "    </tr>\n",
       "    <tr>\n",
       "      <th>28</th>\n",
       "      <td>0.36</td>\n",
       "      <td>0.36</td>\n",
       "    </tr>\n",
       "    <tr>\n",
       "      <th>29</th>\n",
       "      <td>0.29</td>\n",
       "      <td>0.22</td>\n",
       "    </tr>\n",
       "    <tr>\n",
       "      <th>30</th>\n",
       "      <td>0.27</td>\n",
       "      <td>0.39</td>\n",
       "    </tr>\n",
       "    <tr>\n",
       "      <th>31</th>\n",
       "      <td>0.40</td>\n",
       "      <td>NaN</td>\n",
       "    </tr>\n",
       "    <tr>\n",
       "      <th>32</th>\n",
       "      <td>0.29</td>\n",
       "      <td>NaN</td>\n",
       "    </tr>\n",
       "    <tr>\n",
       "      <th>33</th>\n",
       "      <td>0.43</td>\n",
       "      <td>NaN</td>\n",
       "    </tr>\n",
       "    <tr>\n",
       "      <th>34</th>\n",
       "      <td>0.34</td>\n",
       "      <td>NaN</td>\n",
       "    </tr>\n",
       "    <tr>\n",
       "      <th>35</th>\n",
       "      <td>0.37</td>\n",
       "      <td>NaN</td>\n",
       "    </tr>\n",
       "  </tbody>\n",
       "</table>\n",
       "</div>"
      ],
      "text/plain": [
       "       A     B\n",
       "0   0.44  0.14\n",
       "1   0.61  0.15\n",
       "2   0.47  0.31\n",
       "3   0.30  0.16\n",
       "4   0.15  0.37\n",
       "5   0.24  0.18\n",
       "6   0.16  0.42\n",
       "7   0.20  0.58\n",
       "8   0.20  0.25\n",
       "9   0.20  0.41\n",
       "10  0.26  0.17\n",
       "11  0.14  0.13\n",
       "12  0.33  0.23\n",
       "13  0.13  0.11\n",
       "14  0.72  0.10\n",
       "15  0.51  0.19\n",
       "16  0.28  0.22\n",
       "17  0.39  0.44\n",
       "18  0.39  0.11\n",
       "19  0.25  0.11\n",
       "20  0.16  0.31\n",
       "21  0.20  0.43\n",
       "22  0.22  0.26\n",
       "23  0.42  0.18\n",
       "24  0.24  0.44\n",
       "25  0.21  0.43\n",
       "26  0.49  0.16\n",
       "27  0.34  0.52\n",
       "28  0.36  0.36\n",
       "29  0.29  0.22\n",
       "30  0.27  0.39\n",
       "31  0.40   NaN\n",
       "32  0.29   NaN\n",
       "33  0.43   NaN\n",
       "34  0.34   NaN\n",
       "35  0.37   NaN"
      ]
     },
     "execution_count": 3,
     "metadata": {},
     "output_type": "execute_result"
    }
   ],
   "source": [
    "df2"
   ]
  },
  {
   "cell_type": "markdown",
   "id": "72a74f1e-c832-4249-bd1e-0902012651db",
   "metadata": {},
   "source": [
    "### *3.1 Do you think there is evidence that means moisture contents in both types of shingles are within the permissible limits? State your conclusions clearly showing all steps.*"
   ]
  },
  {
   "cell_type": "code",
   "execution_count": 4,
   "id": "7bb66618-f0d8-4cee-a803-9feb9f7e6570",
   "metadata": {},
   "outputs": [
    {
     "name": "stdout",
     "output_type": "stream",
     "text": [
      "\tNull hypothesis:\t mean moisture content of both shingles<= 0.35\n",
      " \tAlternate Hypothesis:\t mean moisture content of both shingles> 0.35\n"
     ]
    }
   ],
   "source": [
    "#Step 1: Formulating the Hypothesis\n",
    "print(\"\\tNull hypothesis:\\t mean moisture content of both shingles<= 0.35\\n\",\n",
    "     \"\\tAlternate Hypothesis:\\t mean moisture content of both shingles> 0.35\")"
   ]
  },
  {
   "cell_type": "code",
   "execution_count": 5,
   "id": "f4105a55-fddf-4b1c-bf54-99148aa9fee3",
   "metadata": {},
   "outputs": [
    {
     "name": "stdout",
     "output_type": "stream",
     "text": [
      "Testing if shingles are withing permissible limit for shingle A:\n",
      "\tNull hypothesis:\t mean moisture content for shingle A <= 0.35\n",
      " \tAlternate Hypothesis:\t mean moisture content for shinle A > 0.35\n",
      "\n",
      "Testing if shingles are withing permissible limit for shingle B:\n",
      "\tNull hypothesis:\t mean moisture content for shingle B <= 0.35\n",
      " \tAlternate Hypothesis:\t mean moisture content for shinle B > 0.35\n"
     ]
    }
   ],
   "source": [
    "#checking if the two two types of shingles have moisture within permissible limits, formulating null and alternate hypothesis for both\n",
    "print(\"Testing if shingles are withing permissible limit for shingle A:\")\n",
    "\n",
    "print(\"\\tNull hypothesis:\\t mean moisture content for shingle A <= 0.35\\n\",\n",
    "     \"\\tAlternate Hypothesis:\\t mean moisture content for shinle A > 0.35\")\n",
    "\n",
    "print(\"\\nTesting if shingles are withing permissible limit for shingle B:\")\n",
    "\n",
    "print(\"\\tNull hypothesis:\\t mean moisture content for shingle B <= 0.35\\n\",\n",
    "     \"\\tAlternate Hypothesis:\\t mean moisture content for shinle B > 0.35\")"
   ]
  },
  {
   "cell_type": "code",
   "execution_count": 6,
   "id": "e36436ab-edad-497d-83e4-bb0b0e24ebfd",
   "metadata": {},
   "outputs": [
    {
     "name": "stdout",
     "output_type": "stream",
     "text": [
      "\n",
      "\tSince there is no level of significance mentioned, we assume it to be 0.05 for both shingles.\n"
     ]
    }
   ],
   "source": [
    "#Step 2: Computing the level of significance\n",
    "print(\"\\n\\tSince there is no level of significance mentioned, we assume it to be 0.05 for both shingles.\")\n",
    "level_of_significance=0.05"
   ]
  },
  {
   "cell_type": "code",
   "execution_count": 7,
   "id": "0fa7dbda-a33d-4e26-b55d-2257650c8272",
   "metadata": {},
   "outputs": [
    {
     "name": "stdout",
     "output_type": "stream",
     "text": [
      "Performing 1 sample t-test for both shingles.\n"
     ]
    }
   ],
   "source": [
    "#Step 3: Determining the type of test statistic\n",
    "print(\"Performing 1 sample t-test for both shingles.\")"
   ]
  },
  {
   "cell_type": "code",
   "execution_count": 8,
   "id": "95fb7862-e348-4264-8031-3f8a494beccd",
   "metadata": {},
   "outputs": [
    {
     "name": "stdout",
     "output_type": "stream",
     "text": [
      "\n",
      "\tSince this is a left tailed ttest\n",
      "t_stat_a: -1.4735046253382782 \n",
      "\n",
      "p_value_a: 0.9252236685509249\n",
      "\n",
      "\tSince p_value: 0.9252236685509249 is greater than the level of significance 0.05 \n",
      "we accept the null hypothesis that the mean moisture content for shingle A <= 0.35, within the permissible limit,\n",
      "with a 5% level of significance.\n"
     ]
    }
   ],
   "source": [
    "#computing for shingle A\n",
    "t_stat_a,p_value_a = ttest_1samp(df2['A'].dropna(),0.35)\n",
    "print(\"\\n\\tSince this is a left tailed ttest\")\n",
    "p_value_a = 1-(p_value_a/2)\n",
    "print(\"t_stat_a:\",t_stat_a,\"\\n\\np_value_a:\",p_value_a)\n",
    "\n",
    "print(\"\\n\\tSince p_value:\", p_value_a,\"is greater than the level of significance\",level_of_significance,\n",
    "      \"\\nwe accept the null hypothesis that the mean moisture content for shingle A <= 0.35, within the permissible limit,\\nwith a 5% level of significance.\")"
   ]
  },
  {
   "cell_type": "code",
   "execution_count": 9,
   "id": "5ad64088-eb11-4c5e-b74a-3415b7a9cd86",
   "metadata": {},
   "outputs": [
    {
     "name": "stdout",
     "output_type": "stream",
     "text": [
      "\n",
      "\tSince this is a left tailed ttest\n",
      "t_stat_b: -3.1003313069986995 \n",
      "\n",
      "p_value_b: 0.9979095225996808\n",
      "\n",
      "\tSince p_value: 0.9979095225996808 is greater than the level of significance 0.05 \n",
      "we accept the null hypothesis that the mean moisture content for shingle B <= 0.35,\n",
      "within the permissible limit.\n"
     ]
    }
   ],
   "source": [
    "#computing for shingle B\n",
    "t_stat_b,p_value_b = ttest_1samp(df2['B'].dropna(),0.35)\n",
    "print(\"\\n\\tSince this is a left tailed ttest\")\n",
    "p_value_b = 1-(p_value_b/2)\n",
    "print(\"t_stat_b:\",t_stat_b,\"\\n\\np_value_b:\",p_value_b)\n",
    "\n",
    "print(\"\\n\\tSince p_value:\", p_value_b,\"is greater than the level of significance\",level_of_significance,\n",
    "      \"\\nwe accept the null hypothesis that the mean moisture content for shingle B <= 0.35,\\nwithin the permissible limit.\")"
   ]
  },
  {
   "cell_type": "markdown",
   "id": "1ab43524-029c-4d9a-afc0-318ed211df42",
   "metadata": {},
   "source": [
    "### *3.2 Do you think that the population mean for shingles A and B are equal? Form the hypothesis and conduct the test of the hypothesis. What assumption do you need to check before the test for equality of means is performed?*"
   ]
  },
  {
   "cell_type": "code",
   "execution_count": 10,
   "id": "8d0ad9d3-046e-447e-8291-e036b9b9f1e6",
   "metadata": {},
   "outputs": [
    {
     "data": {
      "text/plain": [
       "0.01842285714285714"
      ]
     },
     "execution_count": 10,
     "metadata": {},
     "output_type": "execute_result"
    }
   ],
   "source": [
    "import statistics\n",
    "statistics.variance(df2['A'])"
   ]
  },
  {
   "cell_type": "code",
   "execution_count": 11,
   "id": "79c3b932-f2d8-4146-a7d7-8e79d1aefd54",
   "metadata": {},
   "outputs": [
    {
     "data": {
      "text/plain": [
       "0.01885032258064516"
      ]
     },
     "execution_count": 11,
     "metadata": {},
     "output_type": "execute_result"
    }
   ],
   "source": [
    "statistics.variance(df2['B'].dropna())"
   ]
  },
  {
   "cell_type": "code",
   "execution_count": 12,
   "id": "377e1f8b-51d7-4549-98fb-db2fba30069a",
   "metadata": {},
   "outputs": [
    {
     "name": "stdout",
     "output_type": "stream",
     "text": [
      "The Variance of both populations are 0.18\n"
     ]
    }
   ],
   "source": [
    "print(\"The Variance of both populations are 0.18\")"
   ]
  },
  {
   "cell_type": "code",
   "execution_count": 13,
   "id": "34ee8e19-4f0a-4eee-a8c1-ceb707d87bd9",
   "metadata": {},
   "outputs": [
    {
     "name": "stdout",
     "output_type": "stream",
     "text": [
      "Null Hypothesis: The population mean of shingle A is equal to population mean of shingle B\n",
      "Alternate Hypothesis: The population mean of shingle A not equal to the population mean of shingle B.\n"
     ]
    }
   ],
   "source": [
    "#Step 1: formulating null and alternate hypothesis\n",
    "print(\"Null Hypothesis: The population mean of shingle A is equal to population mean of shingle B\")\n",
    "print(\"Alternate Hypothesis: The population mean of shingle A not equal to the population mean of shingle B.\")"
   ]
  },
  {
   "cell_type": "code",
   "execution_count": 14,
   "id": "5b15f2fd-a090-4f6f-8470-4a97476e98dc",
   "metadata": {},
   "outputs": [
    {
     "name": "stdout",
     "output_type": "stream",
     "text": [
      "Since there is not level of significance mentioned, we assume level of significance of 0.05.\n"
     ]
    }
   ],
   "source": [
    "#Step 2: Computing the level of significance\n",
    "print(\"Since there is not level of significance mentioned, we assume level of significance of 0.05.\")"
   ]
  },
  {
   "cell_type": "code",
   "execution_count": 15,
   "id": "22dcb1db-ef92-46f7-b2df-124126c5a33c",
   "metadata": {},
   "outputs": [],
   "source": [
    "#Step 3: Identifying test statistic, since we are comparing 2 data sets, we use the Two sample t-test\n",
    "#Calculate p value\n",
    "t_statistic, p_value = ttest_ind(df2['A'].dropna(),df2['B'].dropna())"
   ]
  },
  {
   "cell_type": "code",
   "execution_count": 16,
   "id": "146c2f26-7685-4d7d-b934-d8117dd0eb39",
   "metadata": {},
   "outputs": [
    {
     "name": "stdout",
     "output_type": "stream",
     "text": [
      "t_stat: 1.289628271966112 \n",
      "p_value: 0.2017496571835328 \n",
      "Since p-value: 0.2017496571835328 is greater than the level of significance, 0.05 \n",
      "we accept the null hypothesis: The population mean of shingle A is equal to population mean of shingle B with a 5% level of significance.\n"
     ]
    }
   ],
   "source": [
    "#Step-4: Comparing p_values:\n",
    "print(\"t_stat:\",t_statistic,\"\\np_value:\",p_value,\"\\nSince p-value:\",p_value,\n",
    "      \"is greater than the level of significance,\",level_of_significance,\n",
    "      \"\\nwe accept the null hypothesis: The population mean of shingle A is equal to population mean of shingle B with a 5% level of significance.\")"
   ]
  }
 ],
 "metadata": {
  "kernelspec": {
   "display_name": "Python 3 (ipykernel)",
   "language": "python",
   "name": "python3"
  },
  "language_info": {
   "codemirror_mode": {
    "name": "ipython",
    "version": 3
   },
   "file_extension": ".py",
   "mimetype": "text/x-python",
   "name": "python",
   "nbconvert_exporter": "python",
   "pygments_lexer": "ipython3",
   "version": "3.12.5"
  }
 },
 "nbformat": 4,
 "nbformat_minor": 5
}
